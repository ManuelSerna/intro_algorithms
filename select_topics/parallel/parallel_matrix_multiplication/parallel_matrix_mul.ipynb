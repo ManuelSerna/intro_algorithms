{
  "nbformat": 4,
  "nbformat_minor": 0,
  "metadata": {
    "colab": {
      "name": "parallel_matrix_mul.ipynb",
      "provenance": [],
      "collapsed_sections": []
    },
    "kernelspec": {
      "name": "python3",
      "display_name": "Python 3"
    },
    "language_info": {
      "name": "python"
    }
  },
  "cells": [
    {
      "cell_type": "code",
      "metadata": {
        "id": "0oOkwMYr0Rkx"
      },
      "source": [
        "#*********************************\n",
        "# Multi-process Matrix Multiplication\n",
        "#\n",
        "# Manuel Serna-Aguilera\n",
        "# Spring 2021\n",
        "#*********************************\n",
        "import multiprocessing as mp\n",
        "from multiprocessing import Pool, TimeoutError\n",
        "import numpy as np\n",
        "import time\n",
        "import os"
      ],
      "execution_count": null,
      "outputs": []
    },
    {
      "cell_type": "code",
      "metadata": {
        "id": "cY88n-nUBcFI"
      },
      "source": [
        "#=================================\n",
        "# Serial version of recursive matrix multiplication\n",
        "'''\n",
        "Input:\n",
        "    C: output (numpy) array\n",
        "    A: first input (numpy) array\n",
        "    B: second input (numpy) array\n",
        "'''\n",
        "#=================================\n",
        "def p_matrix_mult_recursive_serial(C, A, B):\n",
        "    n = A.shape[0] # get number of rows\n",
        "\n",
        "    if n == 1:\n",
        "        return np.dot(A, B) # single-element matrices\n",
        "    else:\n",
        "        # let T be a new n X n matrix\n",
        "        T = np.zeros((n,n))\n",
        "\n",
        "        # Partition A,B,C, and T into n/2 X n/2 submatrices\n",
        "        mid = int(n/2)\n",
        "\n",
        "        A11 = A[0:mid, 0:mid]\n",
        "        A12 = A[0:mid, mid:n]\n",
        "        A21 = A[mid:n, 0:mid]\n",
        "        A22 = A[mid:n, mid:n]\n",
        "\n",
        "        B11 = B[0:mid, 0:mid]\n",
        "        B12 = B[0:mid, mid:n]\n",
        "        B21 = B[mid:n, 0:mid]\n",
        "        B22 = B[mid:n, mid:n]\n",
        "\n",
        "        C11 = C[0:mid, 0:mid]\n",
        "        C12 = C[0:mid, mid:n]\n",
        "        C21 = C[mid:n, 0:mid]\n",
        "        C22 = C[mid:n, mid:n]\n",
        "\n",
        "        T11 = T[0:mid, 0:mid]\n",
        "        T12 = T[0:mid, mid:n]\n",
        "        T21 = T[mid:n, 0:mid]\n",
        "        T22 = T[mid:n, mid:n]\n",
        "\n",
        "        # Call recursive cases\n",
        "        C11 = p_matrix_mult_recursive(C11, A11, B11)\n",
        "        C12 = p_matrix_mult_recursive(C12, A11, B12)\n",
        "        C21 = p_matrix_mult_recursive(C21, A21, B11)\n",
        "        C22 = p_matrix_mult_recursive(C22, A21, B12)\n",
        "\n",
        "        T11 = p_matrix_mult_recursive(T11, A12, B21)\n",
        "        T12 = p_matrix_mult_recursive(T12, A12, B22)\n",
        "        T21 = p_matrix_mult_recursive(T21, A22, B21)\n",
        "        T22 = p_matrix_mult_recursive(T22, A22, B22)\n",
        "\n",
        "        # Copy values back to C and T\n",
        "        C[0:mid, 0:mid] = C11\n",
        "        C[0:mid, mid:n] = C12\n",
        "        C[mid:n, 0:mid] = C21\n",
        "        C[mid:n, mid:n] = C22\n",
        "\n",
        "        T[0:mid, 0:mid] = T11\n",
        "        T[0:mid, mid:n] = T12\n",
        "        T[mid:n, 0:mid] = T21\n",
        "        T[mid:n, mid:n] = T22\n",
        "\n",
        "        # Parallel loop to get elements in C (n X n)\n",
        "        for i in range(n):\n",
        "            for j in range(n):\n",
        "                C[i, j] = C[i, j] + T[i, j]\n",
        "\n",
        "        return C"
      ],
      "execution_count": null,
      "outputs": []
    },
    {
      "cell_type": "code",
      "metadata": {
        "id": "5PVMqlNzZhdZ"
      },
      "source": [
        "#=================================\n",
        "# Multiprocess version of recursive add (analogous to parallel for loop)\n",
        "'''\n",
        "Input:\n",
        "    C: (numpy array) matrix whose contents will be updated\n",
        "    T: (numpy array) matrix whose elements will be added to corresponding indices in C\n",
        "Return:\n",
        "    NA\n",
        "\n",
        "NOTE: matrices assumed to be n X n, where n is a power of 2\n",
        "'''\n",
        "#=================================\n",
        "def add_multiprocess(C, T):\n",
        "    n = C.shape[0]\n",
        "\n",
        "    if n == 1:\n",
        "        C = C + T \n",
        "    else:\n",
        "        # Partition C and T into n/2 X n/2 submatrices\n",
        "        mid = int(n/2)\n",
        "\n",
        "        # Call recursive cases as multiple async processes (once we get out of 'with' block, everything is synced)\n",
        "        with Pool(processes=4) as pool:\n",
        "            pool.apply_async(add_multiprocess, (C[0:mid, 0:mid], T[0:mid, 0:mid]))\n",
        "            pool.apply_async(add_multiprocess, (C[0:mid, mid:n], T[0:mid, mid:n]))\n",
        "            pool.apply_async(add_multiprocess, (C[mid:n, 0:mid], T[mid:n, 0:mid]))\n",
        "            pool.apply_async(add_multiprocess, (C[mid:n, mid:n], T[mid:n, mid:n]))\n",
        "\n",
        "        # Parallel portion finished, this should prevent memory leaks and pool is closed\n",
        "        pool.close()\n",
        "        pool.join()"
      ],
      "execution_count": null,
      "outputs": []
    },
    {
      "cell_type": "code",
      "metadata": {
        "id": "ZzLIU1GCTvKg"
      },
      "source": [
        "#=================================\n",
        "# Multiprocess version for recursive matrix multiplication\n",
        "'''\n",
        "Input:\n",
        "    C: output (numpy) array where results are written to\n",
        "    A: first input (numpy) array\n",
        "    B: second input (numpy) array\n",
        "Return:\n",
        "    NA\n",
        "\n",
        "NOTE: matrices assumed to be n X n, where n is a power of 2\n",
        "'''\n",
        "#=================================\n",
        "def p_matrix_mult_recursive_multiprocess(C, A, B):\n",
        "    n = A.shape[0] # get number of rows\n",
        "\n",
        "    if n == 1:\n",
        "        C = np.dot(A, B) # single-element matrices\n",
        "    else:\n",
        "        # Let T be a new n X n matrix\n",
        "        T = np.zeros((n,n))\n",
        "\n",
        "        # Partition A,B,C, and T into n/2 X n/2 submatrices\n",
        "        mid = int(n/2)\n",
        "\n",
        "        # Call recursive cases as multiple async processes (once we get out of 'with' block, everything is synced)\n",
        "        with Pool(processes=8) as pool:\n",
        "            pool.apply_async(p_matrix_mult_recursive_multiprocess, (C[0:mid, 0:mid], A[0:mid, 0:mid], B[0:mid, 0:mid]))\n",
        "            pool.apply_async(p_matrix_mult_recursive_multiprocess, (C[0:mid, mid:n], A[0:mid, 0:mid], B[0:mid, mid:n]))\n",
        "            pool.apply_async(p_matrix_mult_recursive_multiprocess, (C[mid:n, 0:mid], A[mid:n, 0:mid], B[0:mid, 0:mid]))\n",
        "            pool.apply_async(p_matrix_mult_recursive_multiprocess, (C[mid:n, mid:n], A[mid:n, 0:mid], B[0:mid, mid:n]))\n",
        "            pool.apply_async(p_matrix_mult_recursive_multiprocess, (T[0:mid, 0:mid], A[0:mid, mid:n], B[mid:n, 0:mid]))\n",
        "            pool.apply_async(p_matrix_mult_recursive_multiprocess, (T[0:mid, mid:n], A[0:mid, mid:n], B[mid:n, mid:n]))\n",
        "            pool.apply_async(p_matrix_mult_recursive_multiprocess, (T[mid:n, 0:mid], A[mid:n, mid:n], B[mid:n, 0:mid]))\n",
        "            pool.apply_async(p_matrix_mult_recursive_multiprocess, (T[mid:n, mid:n], A[mid:n, mid:n], B[mid:n, mid:n]))\n",
        "\n",
        "        # Parallel portion finished, this should prevent memory leaks and pool is closed\n",
        "        pool.close()\n",
        "        pool.join()\n",
        "\n",
        "        # Add\n",
        "        add_multiprocess(C, T)"
      ],
      "execution_count": null,
      "outputs": []
    },
    {
      "cell_type": "code",
      "metadata": {
        "id": "yKxTg_Ta5cUB"
      },
      "source": [
        "# Init \n",
        "rng = np.random.default_rng()"
      ],
      "execution_count": null,
      "outputs": []
    },
    {
      "cell_type": "code",
      "metadata": {
        "id": "Kc0Rv-31Cz42"
      },
      "source": [
        "# Test: setup\n",
        "TESTS = 100 # tests to run for particular size-n matrix\n",
        "n = 1 # initial size of matrices\n",
        "#max_n = 32 # MAX size of matrices\n",
        "#max_n = 64\n",
        "#max_n = 128\n",
        "#max_n = 256\n",
        "#max_n = 1024\n",
        "#max_n = 2048\n",
        "max_n = 4096\n",
        "scale = 2 # increase size of matrices by this factor\n",
        "\n",
        "times = np.zeros((int(np.log2(max_n)+1))) # record average times here for each size n"
      ],
      "execution_count": null,
      "outputs": []
    },
    {
      "cell_type": "code",
      "metadata": {
        "colab": {
          "base_uri": "https://localhost:8080/"
        },
        "id": "IKuREJtS27CN",
        "outputId": "ba828a0e-dcbe-4a05-fcfc-f688c711f8c7"
      },
      "source": [
        "# Run tests on increasing matrix sizes\n",
        "index=0\n",
        "while n <= max_n:\n",
        "    print('n = {}'.format(n))\n",
        "\n",
        "    for test in range(TESTS):\n",
        "        matrixA = rng.standard_normal(size=(n,n), dtype=np.float32)\n",
        "        matrixA.flags.writeable = False # input matrix 'A' read-only\n",
        "        matrixB = rng.standard_normal(size=(n,n), dtype=np.float32)\n",
        "        matrixB.flags.writeable = False # input matrix 'B' read-only\n",
        "\n",
        "        matrixC = np.zeros((n,n))\n",
        "\n",
        "        start = time.time()\n",
        "        p_matrix_mult_recursive_multiprocess(C=matrixC, A=matrixA, B=matrixB)\n",
        "        finish = time.time() - start\n",
        "        #print('{}) {}'.format(index, finish))\n",
        "\n",
        "        times[index] += finish\n",
        "\n",
        "    # Update\n",
        "    times[index] = times[index] / TESTS\n",
        "    n *= scale\n",
        "    index += 1"
      ],
      "execution_count": null,
      "outputs": [
        {
          "output_type": "stream",
          "text": [
            "n = 1\n",
            "n = 2\n",
            "n = 4\n",
            "n = 8\n",
            "n = 16\n",
            "n = 32\n",
            "n = 64\n",
            "n = 128\n",
            "n = 256\n",
            "n = 512\n",
            "n = 1024\n",
            "n = 2048\n",
            "n = 4096\n"
          ],
          "name": "stdout"
        }
      ]
    },
    {
      "cell_type": "code",
      "metadata": {
        "id": "AQuOTdDSv_Gv",
        "colab": {
          "base_uri": "https://localhost:8080/"
        },
        "outputId": "fa3df083-04db-43f7-cbd4-2ddd0777e3c7"
      },
      "source": [
        "# Print average timings for each matrix size\n",
        "print(\"======================================\")\n",
        "print('Average times for each matrix size')\n",
        "\n",
        "print('size n)\\ttime (seconds)')\n",
        "for i in range(times.size):\n",
        "    print('2^{})\\t{:.8f}'.format(i, times[i]))"
      ],
      "execution_count": null,
      "outputs": [
        {
          "output_type": "stream",
          "text": [
            "======================================\n",
            "Average times for each matrix size\n",
            "size n)\ttime (seconds)\n",
            "2^0)\t0.00000194\n",
            "2^1)\t0.29108859\n",
            "2^2)\t0.29529122\n",
            "2^3)\t0.29903442\n",
            "2^4)\t0.30430891\n",
            "2^5)\t0.31532744\n",
            "2^6)\t0.32314299\n",
            "2^7)\t0.32713509\n",
            "2^8)\t0.33292394\n",
            "2^9)\t0.34292706\n",
            "2^10)\t0.35500550\n",
            "2^11)\t0.39274744\n",
            "2^12)\t0.47496295\n"
          ],
          "name": "stdout"
        }
      ]
    }
  ]
}